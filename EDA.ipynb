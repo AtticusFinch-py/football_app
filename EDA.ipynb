{
 "cells": [
  {
   "attachments": {},
   "cell_type": "markdown",
   "metadata": {},
   "source": [
    "\n",
    "\n",
    "`The following is a simple EDA of NFL WR stats. The purpose of this project is to show the correlation between individual wide receiver stats and their fantasy points. For example, both Team Target Percentage (TAR%) and Team Air Yards Percentage (AY%) show the highest correlation per the given data. Data was retrieved from Rotowire.com. `\n",
    "\n"
   ]
  },
  {
   "cell_type": "code",
   "execution_count": 46,
   "metadata": {},
   "outputs": [],
   "source": [
    "import pandas as pd\n",
    "import plotly.express as px\n",
    "import os"
   ]
  },
  {
   "cell_type": "code",
   "execution_count": 47,
   "metadata": {},
   "outputs": [],
   "source": [
    "data = pd.read_csv(\"C:/Users/patba/Downloads/practicum resources/notebooks/wr_data.csv\", header=1)"
   ]
  },
  {
   "cell_type": "code",
   "execution_count": 48,
   "metadata": {},
   "outputs": [
    {
     "data": {
      "text/html": [
       "<div>\n",
       "<style scoped>\n",
       "    .dataframe tbody tr th:only-of-type {\n",
       "        vertical-align: middle;\n",
       "    }\n",
       "\n",
       "    .dataframe tbody tr th {\n",
       "        vertical-align: top;\n",
       "    }\n",
       "\n",
       "    .dataframe thead th {\n",
       "        text-align: right;\n",
       "    }\n",
       "</style>\n",
       "<table border=\"1\" class=\"dataframe\">\n",
       "  <thead>\n",
       "    <tr style=\"text-align: right;\">\n",
       "      <th></th>\n",
       "      <th>Name</th>\n",
       "      <th>Team</th>\n",
       "      <th>Pos</th>\n",
       "      <th>G</th>\n",
       "      <th>TAR</th>\n",
       "      <th>REC</th>\n",
       "      <th>YDS</th>\n",
       "      <th>Rts</th>\n",
       "      <th>TPRR%</th>\n",
       "      <th>YPRR</th>\n",
       "      <th>...</th>\n",
       "      <th>Cmp AY</th>\n",
       "      <th>Catch %</th>\n",
       "      <th>Drop %</th>\n",
       "      <th>AY.1</th>\n",
       "      <th>TAR.1</th>\n",
       "      <th>YDS.1</th>\n",
       "      <th>AVG</th>\n",
       "      <th>YAC%</th>\n",
       "      <th>Drawn</th>\n",
       "      <th>On</th>\n",
       "    </tr>\n",
       "  </thead>\n",
       "  <tbody>\n",
       "    <tr>\n",
       "      <th>0</th>\n",
       "      <td>Justin Jefferson</td>\n",
       "      <td>MIN</td>\n",
       "      <td>WR</td>\n",
       "      <td>16</td>\n",
       "      <td>179</td>\n",
       "      <td>124</td>\n",
       "      <td>1771</td>\n",
       "      <td>646</td>\n",
       "      <td>27.7</td>\n",
       "      <td>2.74</td>\n",
       "      <td>...</td>\n",
       "      <td>1161</td>\n",
       "      <td>70.9</td>\n",
       "      <td>2.9</td>\n",
       "      <td>39.4</td>\n",
       "      <td>28.8</td>\n",
       "      <td>610</td>\n",
       "      <td>4.9</td>\n",
       "      <td>34.4</td>\n",
       "      <td>4</td>\n",
       "      <td>1</td>\n",
       "    </tr>\n",
       "    <tr>\n",
       "      <th>1</th>\n",
       "      <td>Tyreek Hill</td>\n",
       "      <td>MIA</td>\n",
       "      <td>WR</td>\n",
       "      <td>16</td>\n",
       "      <td>165</td>\n",
       "      <td>117</td>\n",
       "      <td>1687</td>\n",
       "      <td>473</td>\n",
       "      <td>34.9</td>\n",
       "      <td>3.57</td>\n",
       "      <td>...</td>\n",
       "      <td>1186</td>\n",
       "      <td>70.9</td>\n",
       "      <td>3.6</td>\n",
       "      <td>40.8</td>\n",
       "      <td>30.9</td>\n",
       "      <td>501</td>\n",
       "      <td>4.3</td>\n",
       "      <td>29.7</td>\n",
       "      <td>5</td>\n",
       "      <td>1</td>\n",
       "    </tr>\n",
       "    <tr>\n",
       "      <th>2</th>\n",
       "      <td>Davante Adams</td>\n",
       "      <td>LV</td>\n",
       "      <td>WR</td>\n",
       "      <td>16</td>\n",
       "      <td>171</td>\n",
       "      <td>95</td>\n",
       "      <td>1443</td>\n",
       "      <td>511</td>\n",
       "      <td>33.5</td>\n",
       "      <td>2.82</td>\n",
       "      <td>...</td>\n",
       "      <td>938</td>\n",
       "      <td>55.6</td>\n",
       "      <td>3.5</td>\n",
       "      <td>41.8</td>\n",
       "      <td>32.6</td>\n",
       "      <td>511</td>\n",
       "      <td>5.4</td>\n",
       "      <td>35.4</td>\n",
       "      <td>4</td>\n",
       "      <td>0</td>\n",
       "    </tr>\n",
       "    <tr>\n",
       "      <th>3</th>\n",
       "      <td>A.J. Brown</td>\n",
       "      <td>PHI</td>\n",
       "      <td>WR</td>\n",
       "      <td>16</td>\n",
       "      <td>135</td>\n",
       "      <td>84</td>\n",
       "      <td>1401</td>\n",
       "      <td>469</td>\n",
       "      <td>28.8</td>\n",
       "      <td>2.99</td>\n",
       "      <td>...</td>\n",
       "      <td>855</td>\n",
       "      <td>61.8</td>\n",
       "      <td>5.1</td>\n",
       "      <td>39.9</td>\n",
       "      <td>28.7</td>\n",
       "      <td>546</td>\n",
       "      <td>6.5</td>\n",
       "      <td>39.0</td>\n",
       "      <td>1</td>\n",
       "      <td>2</td>\n",
       "    </tr>\n",
       "    <tr>\n",
       "      <th>4</th>\n",
       "      <td>Stefon Diggs</td>\n",
       "      <td>BUF</td>\n",
       "      <td>WR</td>\n",
       "      <td>15</td>\n",
       "      <td>144</td>\n",
       "      <td>101</td>\n",
       "      <td>1325</td>\n",
       "      <td>591</td>\n",
       "      <td>24.4</td>\n",
       "      <td>2.24</td>\n",
       "      <td>...</td>\n",
       "      <td>895</td>\n",
       "      <td>71.6</td>\n",
       "      <td>5.7</td>\n",
       "      <td>34.0</td>\n",
       "      <td>27.3</td>\n",
       "      <td>430</td>\n",
       "      <td>4.3</td>\n",
       "      <td>32.5</td>\n",
       "      <td>3</td>\n",
       "      <td>2</td>\n",
       "    </tr>\n",
       "  </tbody>\n",
       "</table>\n",
       "<p>5 rows × 23 columns</p>\n",
       "</div>"
      ],
      "text/plain": [
       "               Name Team Pos   G  TAR  REC   YDS  Rts  TPRR%  YPRR  ...  \\\n",
       "0  Justin Jefferson  MIN  WR  16  179  124  1771  646   27.7  2.74  ...   \n",
       "1       Tyreek Hill  MIA  WR  16  165  117  1687  473   34.9  3.57  ...   \n",
       "2     Davante Adams   LV  WR  16  171   95  1443  511   33.5  2.82  ...   \n",
       "3        A.J. Brown  PHI  WR  16  135   84  1401  469   28.8  2.99  ...   \n",
       "4      Stefon Diggs  BUF  WR  15  144  101  1325  591   24.4  2.24  ...   \n",
       "\n",
       "   Cmp AY  Catch %  Drop %  AY.1  TAR.1  YDS.1  AVG  YAC%  Drawn  On  \n",
       "0    1161     70.9     2.9  39.4   28.8    610  4.9  34.4      4   1  \n",
       "1    1186     70.9     3.6  40.8   30.9    501  4.3  29.7      5   1  \n",
       "2     938     55.6     3.5  41.8   32.6    511  5.4  35.4      4   0  \n",
       "3     855     61.8     5.1  39.9   28.7    546  6.5  39.0      1   2  \n",
       "4     895     71.6     5.7  34.0   27.3    430  4.3  32.5      3   2  \n",
       "\n",
       "[5 rows x 23 columns]"
      ]
     },
     "execution_count": 48,
     "metadata": {},
     "output_type": "execute_result"
    }
   ],
   "source": [
    "data.head()"
   ]
  },
  {
   "cell_type": "code",
   "execution_count": 49,
   "metadata": {},
   "outputs": [
    {
     "data": {
      "text/plain": [
       "Index(['Name', 'Team', 'Pos', 'G', 'TAR', 'REC', 'YDS', 'Rts', 'TPRR%', 'YPRR',\n",
       "       'AY', 'aDOT', 'AY/Snap', 'Cmp AY', 'Catch %', 'Drop %', 'AY.1', 'TAR.1',\n",
       "       'YDS.1', 'AVG', 'YAC%', 'Drawn', 'On'],\n",
       "      dtype='object')"
      ]
     },
     "execution_count": 49,
     "metadata": {},
     "output_type": "execute_result"
    }
   ],
   "source": [
    "data.columns"
   ]
  },
  {
   "cell_type": "code",
   "execution_count": 50,
   "metadata": {},
   "outputs": [
    {
     "data": {
      "text/plain": [
       "Index(['Name', 'Team', 'Pos', 'G', 'TAR', 'REC', 'YDS', 'Rts', 'TPRR%', 'YPRR',\n",
       "       'AY', 'aDOT', 'AY/Snap', 'Cmp AY', 'Catch %', 'Drop %', 'AY%', 'TAR%',\n",
       "       'YAC', 'YAC_AVG', 'YAC%', 'Drawn', 'On'],\n",
       "      dtype='object')"
      ]
     },
     "execution_count": 50,
     "metadata": {},
     "output_type": "execute_result"
    }
   ],
   "source": [
    "renamed_columns = {'AY.1': 'AY%', 'TAR.1':'TAR%', 'YDS.1':'YAC', 'AVG':'YAC_AVG'}\n",
    "data = data.rename(columns=renamed_columns)\n",
    "data.columns"
   ]
  },
  {
   "cell_type": "code",
   "execution_count": 52,
   "metadata": {},
   "outputs": [],
   "source": [
    "f_points = pd.read_csv('C:/Users/patba/Downloads/practicum resources/notebooks/wr_fantasy_points.csv')\n"
   ]
  },
  {
   "cell_type": "code",
   "execution_count": 53,
   "metadata": {},
   "outputs": [
    {
     "data": {
      "text/html": [
       "<div>\n",
       "<style scoped>\n",
       "    .dataframe tbody tr th:only-of-type {\n",
       "        vertical-align: middle;\n",
       "    }\n",
       "\n",
       "    .dataframe tbody tr th {\n",
       "        vertical-align: top;\n",
       "    }\n",
       "\n",
       "    .dataframe thead th {\n",
       "        text-align: right;\n",
       "    }\n",
       "</style>\n",
       "<table border=\"1\" class=\"dataframe\">\n",
       "  <thead>\n",
       "    <tr style=\"text-align: right;\">\n",
       "      <th></th>\n",
       "      <th>Name</th>\n",
       "      <th>Team</th>\n",
       "      <th>Pos</th>\n",
       "      <th>Fantasy_Points</th>\n",
       "    </tr>\n",
       "  </thead>\n",
       "  <tbody>\n",
       "    <tr>\n",
       "      <th>0</th>\n",
       "      <td>Justin Jefferson</td>\n",
       "      <td>MIN</td>\n",
       "      <td>WR</td>\n",
       "      <td>235.2</td>\n",
       "    </tr>\n",
       "    <tr>\n",
       "      <th>1</th>\n",
       "      <td>Tyreek Hill</td>\n",
       "      <td>MIA</td>\n",
       "      <td>WR</td>\n",
       "      <td>219.9</td>\n",
       "    </tr>\n",
       "    <tr>\n",
       "      <th>2</th>\n",
       "      <td>Davante Adams</td>\n",
       "      <td>LV</td>\n",
       "      <td>WR</td>\n",
       "      <td>228.2</td>\n",
       "    </tr>\n",
       "    <tr>\n",
       "      <th>3</th>\n",
       "      <td>A.J. Brown</td>\n",
       "      <td>PHI</td>\n",
       "      <td>WR</td>\n",
       "      <td>206.1</td>\n",
       "    </tr>\n",
       "    <tr>\n",
       "      <th>4</th>\n",
       "      <td>Stefon Diggs</td>\n",
       "      <td>BUF</td>\n",
       "      <td>WR</td>\n",
       "      <td>192.2</td>\n",
       "    </tr>\n",
       "  </tbody>\n",
       "</table>\n",
       "</div>"
      ],
      "text/plain": [
       "               Name Team Pos  Fantasy_Points\n",
       "0  Justin Jefferson  MIN  WR           235.2\n",
       "1       Tyreek Hill  MIA  WR           219.9\n",
       "2     Davante Adams   LV  WR           228.2\n",
       "3        A.J. Brown  PHI  WR           206.1\n",
       "4      Stefon Diggs  BUF  WR           192.2"
      ]
     },
     "execution_count": 53,
     "metadata": {},
     "output_type": "execute_result"
    }
   ],
   "source": [
    "f_points.head()"
   ]
  },
  {
   "cell_type": "code",
   "execution_count": 54,
   "metadata": {},
   "outputs": [
    {
     "data": {
      "text/html": [
       "<div>\n",
       "<style scoped>\n",
       "    .dataframe tbody tr th:only-of-type {\n",
       "        vertical-align: middle;\n",
       "    }\n",
       "\n",
       "    .dataframe tbody tr th {\n",
       "        vertical-align: top;\n",
       "    }\n",
       "\n",
       "    .dataframe thead th {\n",
       "        text-align: right;\n",
       "    }\n",
       "</style>\n",
       "<table border=\"1\" class=\"dataframe\">\n",
       "  <thead>\n",
       "    <tr style=\"text-align: right;\">\n",
       "      <th></th>\n",
       "      <th>Name</th>\n",
       "      <th>Team</th>\n",
       "      <th>Pos</th>\n",
       "      <th>G</th>\n",
       "      <th>TAR</th>\n",
       "      <th>REC</th>\n",
       "      <th>YDS</th>\n",
       "      <th>Rts</th>\n",
       "      <th>TPRR%</th>\n",
       "      <th>YPRR</th>\n",
       "      <th>...</th>\n",
       "      <th>Catch %</th>\n",
       "      <th>Drop %</th>\n",
       "      <th>AY%</th>\n",
       "      <th>TAR%</th>\n",
       "      <th>YAC</th>\n",
       "      <th>YAC_AVG</th>\n",
       "      <th>YAC%</th>\n",
       "      <th>Drawn</th>\n",
       "      <th>On</th>\n",
       "      <th>Fantasy_Points</th>\n",
       "    </tr>\n",
       "  </thead>\n",
       "  <tbody>\n",
       "    <tr>\n",
       "      <th>0</th>\n",
       "      <td>Justin Jefferson</td>\n",
       "      <td>MIN</td>\n",
       "      <td>WR</td>\n",
       "      <td>16</td>\n",
       "      <td>179</td>\n",
       "      <td>124</td>\n",
       "      <td>1771</td>\n",
       "      <td>646</td>\n",
       "      <td>27.7</td>\n",
       "      <td>2.74</td>\n",
       "      <td>...</td>\n",
       "      <td>70.9</td>\n",
       "      <td>2.9</td>\n",
       "      <td>39.4</td>\n",
       "      <td>28.8</td>\n",
       "      <td>610</td>\n",
       "      <td>4.9</td>\n",
       "      <td>34.4</td>\n",
       "      <td>4</td>\n",
       "      <td>1</td>\n",
       "      <td>235.2</td>\n",
       "    </tr>\n",
       "    <tr>\n",
       "      <th>1</th>\n",
       "      <td>Tyreek Hill</td>\n",
       "      <td>MIA</td>\n",
       "      <td>WR</td>\n",
       "      <td>16</td>\n",
       "      <td>165</td>\n",
       "      <td>117</td>\n",
       "      <td>1687</td>\n",
       "      <td>473</td>\n",
       "      <td>34.9</td>\n",
       "      <td>3.57</td>\n",
       "      <td>...</td>\n",
       "      <td>70.9</td>\n",
       "      <td>3.6</td>\n",
       "      <td>40.8</td>\n",
       "      <td>30.9</td>\n",
       "      <td>501</td>\n",
       "      <td>4.3</td>\n",
       "      <td>29.7</td>\n",
       "      <td>5</td>\n",
       "      <td>1</td>\n",
       "      <td>219.9</td>\n",
       "    </tr>\n",
       "    <tr>\n",
       "      <th>2</th>\n",
       "      <td>Davante Adams</td>\n",
       "      <td>LV</td>\n",
       "      <td>WR</td>\n",
       "      <td>16</td>\n",
       "      <td>171</td>\n",
       "      <td>95</td>\n",
       "      <td>1443</td>\n",
       "      <td>511</td>\n",
       "      <td>33.5</td>\n",
       "      <td>2.82</td>\n",
       "      <td>...</td>\n",
       "      <td>55.6</td>\n",
       "      <td>3.5</td>\n",
       "      <td>41.8</td>\n",
       "      <td>32.6</td>\n",
       "      <td>511</td>\n",
       "      <td>5.4</td>\n",
       "      <td>35.4</td>\n",
       "      <td>4</td>\n",
       "      <td>0</td>\n",
       "      <td>228.2</td>\n",
       "    </tr>\n",
       "    <tr>\n",
       "      <th>3</th>\n",
       "      <td>A.J. Brown</td>\n",
       "      <td>PHI</td>\n",
       "      <td>WR</td>\n",
       "      <td>16</td>\n",
       "      <td>135</td>\n",
       "      <td>84</td>\n",
       "      <td>1401</td>\n",
       "      <td>469</td>\n",
       "      <td>28.8</td>\n",
       "      <td>2.99</td>\n",
       "      <td>...</td>\n",
       "      <td>61.8</td>\n",
       "      <td>5.1</td>\n",
       "      <td>39.9</td>\n",
       "      <td>28.7</td>\n",
       "      <td>546</td>\n",
       "      <td>6.5</td>\n",
       "      <td>39.0</td>\n",
       "      <td>1</td>\n",
       "      <td>2</td>\n",
       "      <td>206.1</td>\n",
       "    </tr>\n",
       "    <tr>\n",
       "      <th>4</th>\n",
       "      <td>Stefon Diggs</td>\n",
       "      <td>BUF</td>\n",
       "      <td>WR</td>\n",
       "      <td>15</td>\n",
       "      <td>144</td>\n",
       "      <td>101</td>\n",
       "      <td>1325</td>\n",
       "      <td>591</td>\n",
       "      <td>24.4</td>\n",
       "      <td>2.24</td>\n",
       "      <td>...</td>\n",
       "      <td>71.6</td>\n",
       "      <td>5.7</td>\n",
       "      <td>34.0</td>\n",
       "      <td>27.3</td>\n",
       "      <td>430</td>\n",
       "      <td>4.3</td>\n",
       "      <td>32.5</td>\n",
       "      <td>3</td>\n",
       "      <td>2</td>\n",
       "      <td>192.2</td>\n",
       "    </tr>\n",
       "    <tr>\n",
       "      <th>...</th>\n",
       "      <td>...</td>\n",
       "      <td>...</td>\n",
       "      <td>...</td>\n",
       "      <td>...</td>\n",
       "      <td>...</td>\n",
       "      <td>...</td>\n",
       "      <td>...</td>\n",
       "      <td>...</td>\n",
       "      <td>...</td>\n",
       "      <td>...</td>\n",
       "      <td>...</td>\n",
       "      <td>...</td>\n",
       "      <td>...</td>\n",
       "      <td>...</td>\n",
       "      <td>...</td>\n",
       "      <td>...</td>\n",
       "      <td>...</td>\n",
       "      <td>...</td>\n",
       "      <td>...</td>\n",
       "      <td>...</td>\n",
       "      <td>...</td>\n",
       "    </tr>\n",
       "    <tr>\n",
       "      <th>225</th>\n",
       "      <td>Kadarius Toney</td>\n",
       "      <td>NYG</td>\n",
       "      <td>WR</td>\n",
       "      <td>1</td>\n",
       "      <td>3</td>\n",
       "      <td>2</td>\n",
       "      <td>0</td>\n",
       "      <td>16</td>\n",
       "      <td>18.8</td>\n",
       "      <td>0.00</td>\n",
       "      <td>...</td>\n",
       "      <td>66.7</td>\n",
       "      <td>33.3</td>\n",
       "      <td>-4.8</td>\n",
       "      <td>9.4</td>\n",
       "      <td>7</td>\n",
       "      <td>3.5</td>\n",
       "      <td>0.0</td>\n",
       "      <td>0</td>\n",
       "      <td>1</td>\n",
       "      <td>0.0</td>\n",
       "    </tr>\n",
       "    <tr>\n",
       "      <th>226</th>\n",
       "      <td>Lance McCutcheon</td>\n",
       "      <td>LAR</td>\n",
       "      <td>WR</td>\n",
       "      <td>2</td>\n",
       "      <td>5</td>\n",
       "      <td>0</td>\n",
       "      <td>0</td>\n",
       "      <td>18</td>\n",
       "      <td>27.8</td>\n",
       "      <td>0.00</td>\n",
       "      <td>...</td>\n",
       "      <td>0.0</td>\n",
       "      <td>25.0</td>\n",
       "      <td>16.3</td>\n",
       "      <td>9.5</td>\n",
       "      <td>0</td>\n",
       "      <td>0.0</td>\n",
       "      <td>0.0</td>\n",
       "      <td>0</td>\n",
       "      <td>0</td>\n",
       "      <td>0.0</td>\n",
       "    </tr>\n",
       "    <tr>\n",
       "      <th>227</th>\n",
       "      <td>DJ Turner</td>\n",
       "      <td>LV</td>\n",
       "      <td>WR</td>\n",
       "      <td>1</td>\n",
       "      <td>1</td>\n",
       "      <td>0</td>\n",
       "      <td>0</td>\n",
       "      <td>2</td>\n",
       "      <td>50.0</td>\n",
       "      <td>0.00</td>\n",
       "      <td>...</td>\n",
       "      <td>0.0</td>\n",
       "      <td>100.0</td>\n",
       "      <td>-1.7</td>\n",
       "      <td>5.3</td>\n",
       "      <td>0</td>\n",
       "      <td>0.0</td>\n",
       "      <td>0.0</td>\n",
       "      <td>0</td>\n",
       "      <td>0</td>\n",
       "      <td>0.6</td>\n",
       "    </tr>\n",
       "    <tr>\n",
       "      <th>228</th>\n",
       "      <td>Cade Johnson</td>\n",
       "      <td>SEA</td>\n",
       "      <td>WR</td>\n",
       "      <td>1</td>\n",
       "      <td>2</td>\n",
       "      <td>0</td>\n",
       "      <td>0</td>\n",
       "      <td>18</td>\n",
       "      <td>11.1</td>\n",
       "      <td>0.00</td>\n",
       "      <td>...</td>\n",
       "      <td>0.0</td>\n",
       "      <td>0.0</td>\n",
       "      <td>7.7</td>\n",
       "      <td>6.9</td>\n",
       "      <td>0</td>\n",
       "      <td>0.0</td>\n",
       "      <td>0.0</td>\n",
       "      <td>0</td>\n",
       "      <td>0</td>\n",
       "      <td>0.0</td>\n",
       "    </tr>\n",
       "    <tr>\n",
       "      <th>229</th>\n",
       "      <td>Josh Gordon</td>\n",
       "      <td>TEN</td>\n",
       "      <td>WR</td>\n",
       "      <td>1</td>\n",
       "      <td>1</td>\n",
       "      <td>0</td>\n",
       "      <td>0</td>\n",
       "      <td>8</td>\n",
       "      <td>12.5</td>\n",
       "      <td>0.00</td>\n",
       "      <td>...</td>\n",
       "      <td>0.0</td>\n",
       "      <td>0.0</td>\n",
       "      <td>7.0</td>\n",
       "      <td>4.5</td>\n",
       "      <td>0</td>\n",
       "      <td>0.0</td>\n",
       "      <td>0.0</td>\n",
       "      <td>0</td>\n",
       "      <td>0</td>\n",
       "      <td>0.0</td>\n",
       "    </tr>\n",
       "  </tbody>\n",
       "</table>\n",
       "<p>230 rows × 24 columns</p>\n",
       "</div>"
      ],
      "text/plain": [
       "                 Name Team Pos   G  TAR  REC   YDS  Rts  TPRR%  YPRR  ...  \\\n",
       "0    Justin Jefferson  MIN  WR  16  179  124  1771  646   27.7  2.74  ...   \n",
       "1         Tyreek Hill  MIA  WR  16  165  117  1687  473   34.9  3.57  ...   \n",
       "2       Davante Adams   LV  WR  16  171   95  1443  511   33.5  2.82  ...   \n",
       "3          A.J. Brown  PHI  WR  16  135   84  1401  469   28.8  2.99  ...   \n",
       "4        Stefon Diggs  BUF  WR  15  144  101  1325  591   24.4  2.24  ...   \n",
       "..                ...  ...  ..  ..  ...  ...   ...  ...    ...   ...  ...   \n",
       "225    Kadarius Toney  NYG  WR   1    3    2     0   16   18.8  0.00  ...   \n",
       "226  Lance McCutcheon  LAR  WR   2    5    0     0   18   27.8  0.00  ...   \n",
       "227         DJ Turner   LV  WR   1    1    0     0    2   50.0  0.00  ...   \n",
       "228      Cade Johnson  SEA  WR   1    2    0     0   18   11.1  0.00  ...   \n",
       "229       Josh Gordon  TEN  WR   1    1    0     0    8   12.5  0.00  ...   \n",
       "\n",
       "     Catch %  Drop %   AY%  TAR%  YAC  YAC_AVG  YAC%  Drawn  On  \\\n",
       "0       70.9     2.9  39.4  28.8  610      4.9  34.4      4   1   \n",
       "1       70.9     3.6  40.8  30.9  501      4.3  29.7      5   1   \n",
       "2       55.6     3.5  41.8  32.6  511      5.4  35.4      4   0   \n",
       "3       61.8     5.1  39.9  28.7  546      6.5  39.0      1   2   \n",
       "4       71.6     5.7  34.0  27.3  430      4.3  32.5      3   2   \n",
       "..       ...     ...   ...   ...  ...      ...   ...    ...  ..   \n",
       "225     66.7    33.3  -4.8   9.4    7      3.5   0.0      0   1   \n",
       "226      0.0    25.0  16.3   9.5    0      0.0   0.0      0   0   \n",
       "227      0.0   100.0  -1.7   5.3    0      0.0   0.0      0   0   \n",
       "228      0.0     0.0   7.7   6.9    0      0.0   0.0      0   0   \n",
       "229      0.0     0.0   7.0   4.5    0      0.0   0.0      0   0   \n",
       "\n",
       "     Fantasy_Points  \n",
       "0             235.2  \n",
       "1             219.9  \n",
       "2             228.2  \n",
       "3             206.1  \n",
       "4             192.2  \n",
       "..              ...  \n",
       "225             0.0  \n",
       "226             0.0  \n",
       "227             0.6  \n",
       "228             0.0  \n",
       "229             0.0  \n",
       "\n",
       "[230 rows x 24 columns]"
      ]
     },
     "execution_count": 54,
     "metadata": {},
     "output_type": "execute_result"
    }
   ],
   "source": [
    "app_data = pd.merge(data, f_points)\n",
    "app_data"
   ]
  },
  {
   "cell_type": "code",
   "execution_count": 65,
   "metadata": {},
   "outputs": [
    {
     "data": {
      "application/vnd.plotly.v1+json": {
       "config": {
        "plotlyServerURL": "https://plot.ly"
       },
       "data": [
        {
         "alignmentgroup": "True",
         "bingroup": "x",
         "histfunc": "sum",
         "hovertemplate": "TAR%=%{x}<br>sum of Fantasy_Points=%{y}<extra></extra>",
         "legendgroup": "",
         "marker": {
          "color": "#000001",
          "pattern": {
           "shape": ""
          }
         },
         "name": "",
         "offsetgroup": "",
         "orientation": "v",
         "showlegend": false,
         "type": "histogram",
         "x": [
          28.8,
          30.9,
          32.6,
          28.7,
          27.3,
          20.8,
          29.2,
          27,
          19.8,
          22.2,
          27.7,
          26.7,
          21,
          23.4,
          22.8,
          25.4,
          25.3,
          22.6,
          21.7,
          29,
          22.4,
          17.5,
          26.4,
          27.4,
          18.4,
          26.3,
          20.8,
          31.1,
          22.3,
          17,
          19.4,
          23,
          22.3,
          21,
          30.1,
          17.3,
          15.2,
          19.4,
          28.7,
          13.4,
          17.5,
          24.3,
          17.2,
          12.8,
          18.4,
          22.2,
          24.4,
          21,
          15.2,
          17.6,
          14.1,
          11.6,
          14.6,
          13.8,
          14.8,
          13.6,
          14.7,
          14.2,
          16.1,
          9.8,
          27.7,
          13.8,
          20.8,
          19,
          14.5,
          14.6,
          11.9,
          10.8,
          15.2,
          15.4,
          12.7,
          16.3,
          17.1,
          16,
          9.7,
          22.9,
          16.7,
          12.5,
          12.5,
          12.3,
          11.8,
          12.9,
          12.9,
          9.5,
          10,
          13.7,
          13.4,
          17.1,
          10.3,
          14.9,
          14.1,
          17.4,
          9.4,
          15.6,
          9.8,
          10.8,
          10.6,
          17.3,
          10.1,
          14.4,
          11.3,
          8.9,
          14.6,
          11.7,
          8.8,
          6.9,
          5.4,
          5.8,
          13.1,
          19,
          12.2,
          7.3,
          7.8,
          8.7,
          10.1,
          17.6,
          9.9,
          8.1,
          6.6,
          8.5,
          19.8,
          7.5,
          10.6,
          28.2,
          7.9,
          6.3,
          10.2,
          5.3,
          8.9,
          6.6,
          7,
          8.4,
          5.7,
          7,
          5.1,
          6.1,
          9.8,
          11.4,
          5.3,
          17.6,
          6.1,
          8.9,
          8.4,
          7.9,
          6.1,
          5.1,
          7.1,
          4.9,
          3.2,
          7.7,
          8.8,
          13.4,
          6.9,
          3.6,
          3.7,
          5.3,
          4.6,
          14.4,
          7.9,
          5.9,
          8.1,
          4.6,
          5.6,
          6.9,
          6,
          5.2,
          8,
          5.5,
          6.5,
          9.7,
          0,
          4.4,
          17.6,
          7.8,
          6.7,
          5.4,
          6.4,
          3,
          0,
          0,
          3.3,
          3.3,
          6,
          5.8,
          2.2,
          7.7,
          5.7,
          20.7,
          5.5,
          5.1,
          3.7,
          5.4,
          3.3,
          4.7,
          3.2,
          5.7,
          5.4,
          4.7,
          3.6,
          8.5,
          7.7,
          4.9,
          5.9,
          14.3,
          2.8,
          6.8,
          5.1,
          2.8,
          5.8,
          2.5,
          4.8,
          4.8,
          2.8,
          2.4,
          4,
          4.2,
          3.9,
          5,
          3.6,
          4.7,
          5.6,
          3.7,
          2.9,
          2.9,
          2.6,
          9.4,
          9.5,
          5.3,
          6.9,
          4.5
         ],
         "xaxis": "x",
         "y": [
          235.2,
          219.9,
          228.2,
          206.1,
          192.2,
          180.9,
          183.4,
          154.9,
          148.4,
          138.6,
          156.7,
          164.9,
          144.2,
          125.8,
          144,
          136.8,
          116.2,
          145.9,
          115.3,
          144.8,
          145.9,
          107.8,
          110.5,
          135.1,
          110.3,
          86.9,
          117.9,
          128.4,
          112,
          121.7,
          97.9,
          86.1,
          106.1,
          104.7,
          98.6,
          91.4,
          99.3,
          84.4,
          89.7,
          102.3,
          100.8,
          88.3,
          95.7,
          77.7,
          113.6,
          77.8,
          114,
          72,
          79.3,
          81.5,
          67.1,
          58.6,
          72.5,
          83.9,
          65.1,
          63.9,
          111.5,
          68,
          62.3,
          66,
          61.5,
          66.8,
          60.7,
          60.1,
          52.7,
          64.3,
          52,
          68.4,
          86.4,
          58.6,
          50,
          55.4,
          53.2,
          61.6,
          53.7,
          47.5,
          65.4,
          65.1,
          73.1,
          46.6,
          46.6,
          75.9,
          57.7,
          48.8,
          63.2,
          45.3,
          48.2,
          59.1,
          52.1,
          51.9,
          42.4,
          46.7,
          32.4,
          48.8,
          46.4,
          68.8,
          41.6,
          40.5,
          33.2,
          33.2,
          34.5,
          38.8,
          32.7,
          44.8,
          31.7,
          25,
          36.8,
          44.1,
          43,
          28.6,
          44.3,
          47,
          21.4,
          27.5,
          20.6,
          26.6,
          26.2,
          18.6,
          44.5,
          18.5,
          35.1,
          18.8,
          21.8,
          21.4,
          20.7,
          30.6,
          15.3,
          21,
          20.5,
          37.5,
          27.8,
          14.1,
          14.4,
          19.6,
          13.4,
          19.3,
          19.9,
          25,
          17.7,
          11.5,
          16.9,
          10.6,
          16.3,
          10.2,
          15.4,
          21.7,
          8.9,
          8.9,
          16.7,
          14.2,
          19.3,
          7.8,
          7.6,
          13.5,
          7.4,
          6.4,
          6.4,
          6.3,
          6.2,
          8,
          6,
          5.9,
          6.8,
          5.4,
          5.3,
          16.8,
          5.1,
          5,
          4.6,
          4.2,
          10.2,
          14.1,
          4.1,
          4,
          4,
          3.9,
          3.8,
          9.7,
          3,
          3,
          3,
          3,
          2.5,
          2.8,
          2.6,
          2.5,
          2.4,
          2.4,
          2.1,
          2.1,
          2,
          2,
          2,
          2,
          1.8,
          1.8,
          1.7,
          1.7,
          1.7,
          1.6,
          1.5,
          1.5,
          1.4,
          1.4,
          1.3,
          1.3,
          1.2,
          1.1,
          1,
          0.9,
          0.8,
          0.7,
          0.7,
          1.6,
          0.6,
          0.6,
          0.5,
          0.3,
          0.2,
          2.1,
          0,
          0,
          0,
          0,
          0,
          0,
          0,
          0.6,
          0,
          0
         ],
         "yaxis": "y"
        }
       ],
       "layout": {
        "barmode": "relative",
        "legend": {
         "tracegroupgap": 0
        },
        "margin": {
         "t": 60
        },
        "template": {
         "data": {
          "candlestick": [
           {
            "decreasing": {
             "line": {
              "color": "#000033"
             }
            },
            "increasing": {
             "line": {
              "color": "#000032"
             }
            },
            "type": "candlestick"
           }
          ],
          "contour": [
           {
            "colorscale": [
             [
              0,
              "#000011"
             ],
             [
              0.1111111111111111,
              "#000012"
             ],
             [
              0.2222222222222222,
              "#000013"
             ],
             [
              0.3333333333333333,
              "#000014"
             ],
             [
              0.4444444444444444,
              "#000015"
             ],
             [
              0.5555555555555556,
              "#000016"
             ],
             [
              0.6666666666666666,
              "#000017"
             ],
             [
              0.7777777777777778,
              "#000018"
             ],
             [
              0.8888888888888888,
              "#000019"
             ],
             [
              1,
              "#000020"
             ]
            ],
            "type": "contour"
           }
          ],
          "contourcarpet": [
           {
            "colorscale": [
             [
              0,
              "#000011"
             ],
             [
              0.1111111111111111,
              "#000012"
             ],
             [
              0.2222222222222222,
              "#000013"
             ],
             [
              0.3333333333333333,
              "#000014"
             ],
             [
              0.4444444444444444,
              "#000015"
             ],
             [
              0.5555555555555556,
              "#000016"
             ],
             [
              0.6666666666666666,
              "#000017"
             ],
             [
              0.7777777777777778,
              "#000018"
             ],
             [
              0.8888888888888888,
              "#000019"
             ],
             [
              1,
              "#000020"
             ]
            ],
            "type": "contourcarpet"
           }
          ],
          "heatmap": [
           {
            "colorscale": [
             [
              0,
              "#000011"
             ],
             [
              0.1111111111111111,
              "#000012"
             ],
             [
              0.2222222222222222,
              "#000013"
             ],
             [
              0.3333333333333333,
              "#000014"
             ],
             [
              0.4444444444444444,
              "#000015"
             ],
             [
              0.5555555555555556,
              "#000016"
             ],
             [
              0.6666666666666666,
              "#000017"
             ],
             [
              0.7777777777777778,
              "#000018"
             ],
             [
              0.8888888888888888,
              "#000019"
             ],
             [
              1,
              "#000020"
             ]
            ],
            "type": "heatmap"
           }
          ],
          "histogram2d": [
           {
            "colorscale": [
             [
              0,
              "#000011"
             ],
             [
              0.1111111111111111,
              "#000012"
             ],
             [
              0.2222222222222222,
              "#000013"
             ],
             [
              0.3333333333333333,
              "#000014"
             ],
             [
              0.4444444444444444,
              "#000015"
             ],
             [
              0.5555555555555556,
              "#000016"
             ],
             [
              0.6666666666666666,
              "#000017"
             ],
             [
              0.7777777777777778,
              "#000018"
             ],
             [
              0.8888888888888888,
              "#000019"
             ],
             [
              1,
              "#000020"
             ]
            ],
            "type": "histogram2d"
           }
          ],
          "icicle": [
           {
            "textfont": {
             "color": "white"
            },
            "type": "icicle"
           }
          ],
          "sankey": [
           {
            "textfont": {
             "color": "#000036"
            },
            "type": "sankey"
           }
          ],
          "scatter": [
           {
            "marker": {
             "line": {
              "width": 0
             }
            },
            "type": "scatter"
           }
          ],
          "table": [
           {
            "cells": {
             "fill": {
              "color": "#000038"
             },
             "font": {
              "color": "#000037"
             },
             "line": {
              "color": "#000039"
             }
            },
            "header": {
             "fill": {
              "color": "#000040"
             },
             "font": {
              "color": "#000036"
             },
             "line": {
              "color": "#000039"
             }
            },
            "type": "table"
           }
          ],
          "waterfall": [
           {
            "connector": {
             "line": {
              "color": "#000036",
              "width": 2
             }
            },
            "decreasing": {
             "marker": {
              "color": "#000033"
             }
            },
            "increasing": {
             "marker": {
              "color": "#000032"
             }
            },
            "totals": {
             "marker": {
              "color": "#000034"
             }
            },
            "type": "waterfall"
           }
          ]
         },
         "layout": {
          "coloraxis": {
           "colorscale": [
            [
             0,
             "#000011"
            ],
            [
             0.1111111111111111,
             "#000012"
            ],
            [
             0.2222222222222222,
             "#000013"
            ],
            [
             0.3333333333333333,
             "#000014"
            ],
            [
             0.4444444444444444,
             "#000015"
            ],
            [
             0.5555555555555556,
             "#000016"
            ],
            [
             0.6666666666666666,
             "#000017"
            ],
            [
             0.7777777777777778,
             "#000018"
            ],
            [
             0.8888888888888888,
             "#000019"
            ],
            [
             1,
             "#000020"
            ]
           ]
          },
          "colorscale": {
           "diverging": [
            [
             0,
             "#000021"
            ],
            [
             0.1,
             "#000022"
            ],
            [
             0.2,
             "#000023"
            ],
            [
             0.3,
             "#000024"
            ],
            [
             0.4,
             "#000025"
            ],
            [
             0.5,
             "#000026"
            ],
            [
             0.6,
             "#000027"
            ],
            [
             0.7,
             "#000028"
            ],
            [
             0.8,
             "#000029"
            ],
            [
             0.9,
             "#000030"
            ],
            [
             1,
             "#000031"
            ]
           ],
           "sequential": [
            [
             0,
             "#000011"
            ],
            [
             0.1111111111111111,
             "#000012"
            ],
            [
             0.2222222222222222,
             "#000013"
            ],
            [
             0.3333333333333333,
             "#000014"
            ],
            [
             0.4444444444444444,
             "#000015"
            ],
            [
             0.5555555555555556,
             "#000016"
            ],
            [
             0.6666666666666666,
             "#000017"
            ],
            [
             0.7777777777777778,
             "#000018"
            ],
            [
             0.8888888888888888,
             "#000019"
            ],
            [
             1,
             "#000020"
            ]
           ],
           "sequentialminus": [
            [
             0,
             "#000011"
            ],
            [
             0.1111111111111111,
             "#000012"
            ],
            [
             0.2222222222222222,
             "#000013"
            ],
            [
             0.3333333333333333,
             "#000014"
            ],
            [
             0.4444444444444444,
             "#000015"
            ],
            [
             0.5555555555555556,
             "#000016"
            ],
            [
             0.6666666666666666,
             "#000017"
            ],
            [
             0.7777777777777778,
             "#000018"
            ],
            [
             0.8888888888888888,
             "#000019"
            ],
            [
             1,
             "#000020"
            ]
           ]
          },
          "colorway": [
           "#000001",
           "#000002",
           "#000003",
           "#000004",
           "#000005",
           "#000006",
           "#000007",
           "#000008",
           "#000009",
           "#000010"
          ]
         }
        },
        "xaxis": {
         "anchor": "y",
         "domain": [
          0,
          1
         ],
         "title": {
          "text": "TAR%"
         }
        },
        "yaxis": {
         "anchor": "x",
         "domain": [
          0,
          1
         ],
         "title": {
          "text": "sum of Fantasy_Points"
         }
        }
       }
      }
     },
     "metadata": {},
     "output_type": "display_data"
    }
   ],
   "source": [
    "tar_hist = px.histogram(app_data, x='TAR%', y='Fantasy_Points')\n",
    "tar_hist.show()"
   ]
  },
  {
   "cell_type": "code",
   "execution_count": 66,
   "metadata": {},
   "outputs": [
    {
     "data": {
      "application/vnd.plotly.v1+json": {
       "config": {
        "plotlyServerURL": "https://plot.ly"
       },
       "data": [
        {
         "hovertemplate": "TAR%=%{x}<br>Fantasy_Points=%{y}<extra></extra>",
         "legendgroup": "",
         "marker": {
          "color": "#000001",
          "symbol": "circle"
         },
         "mode": "markers",
         "name": "",
         "orientation": "v",
         "showlegend": false,
         "type": "scatter",
         "x": [
          28.8,
          30.9,
          32.6,
          28.7,
          27.3,
          20.8,
          29.2,
          27,
          19.8,
          22.2,
          27.7,
          26.7,
          21,
          23.4,
          22.8,
          25.4,
          25.3,
          22.6,
          21.7,
          29,
          22.4,
          17.5,
          26.4,
          27.4,
          18.4,
          26.3,
          20.8,
          31.1,
          22.3,
          17,
          19.4,
          23,
          22.3,
          21,
          30.1,
          17.3,
          15.2,
          19.4,
          28.7,
          13.4,
          17.5,
          24.3,
          17.2,
          12.8,
          18.4,
          22.2,
          24.4,
          21,
          15.2,
          17.6,
          14.1,
          11.6,
          14.6,
          13.8,
          14.8,
          13.6,
          14.7,
          14.2,
          16.1,
          9.8,
          27.7,
          13.8,
          20.8,
          19,
          14.5,
          14.6,
          11.9,
          10.8,
          15.2,
          15.4,
          12.7,
          16.3,
          17.1,
          16,
          9.7,
          22.9,
          16.7,
          12.5,
          12.5,
          12.3,
          11.8,
          12.9,
          12.9,
          9.5,
          10,
          13.7,
          13.4,
          17.1,
          10.3,
          14.9,
          14.1,
          17.4,
          9.4,
          15.6,
          9.8,
          10.8,
          10.6,
          17.3,
          10.1,
          14.4,
          11.3,
          8.9,
          14.6,
          11.7,
          8.8,
          6.9,
          5.4,
          5.8,
          13.1,
          19,
          12.2,
          7.3,
          7.8,
          8.7,
          10.1,
          17.6,
          9.9,
          8.1,
          6.6,
          8.5,
          19.8,
          7.5,
          10.6,
          28.2,
          7.9,
          6.3,
          10.2,
          5.3,
          8.9,
          6.6,
          7,
          8.4,
          5.7,
          7,
          5.1,
          6.1,
          9.8,
          11.4,
          5.3,
          17.6,
          6.1,
          8.9,
          8.4,
          7.9,
          6.1,
          5.1,
          7.1,
          4.9,
          3.2,
          7.7,
          8.8,
          13.4,
          6.9,
          3.6,
          3.7,
          5.3,
          4.6,
          14.4,
          7.9,
          5.9,
          8.1,
          4.6,
          5.6,
          6.9,
          6,
          5.2,
          8,
          5.5,
          6.5,
          9.7,
          0,
          4.4,
          17.6,
          7.8,
          6.7,
          5.4,
          6.4,
          3,
          0,
          0,
          3.3,
          3.3,
          6,
          5.8,
          2.2,
          7.7,
          5.7,
          20.7,
          5.5,
          5.1,
          3.7,
          5.4,
          3.3,
          4.7,
          3.2,
          5.7,
          5.4,
          4.7,
          3.6,
          8.5,
          7.7,
          4.9,
          5.9,
          14.3,
          2.8,
          6.8,
          5.1,
          2.8,
          5.8,
          2.5,
          4.8,
          4.8,
          2.8,
          2.4,
          4,
          4.2,
          3.9,
          5,
          3.6,
          4.7,
          5.6,
          3.7,
          2.9,
          2.9,
          2.6,
          9.4,
          9.5,
          5.3,
          6.9,
          4.5
         ],
         "xaxis": "x",
         "y": [
          235.2,
          219.9,
          228.2,
          206.1,
          192.2,
          180.9,
          183.4,
          154.9,
          148.4,
          138.6,
          156.7,
          164.9,
          144.2,
          125.8,
          144,
          136.8,
          116.2,
          145.9,
          115.3,
          144.8,
          145.9,
          107.8,
          110.5,
          135.1,
          110.3,
          86.9,
          117.9,
          128.4,
          112,
          121.7,
          97.9,
          86.1,
          106.1,
          104.7,
          98.6,
          91.4,
          99.3,
          84.4,
          89.7,
          102.3,
          100.8,
          88.3,
          95.7,
          77.7,
          113.6,
          77.8,
          114,
          72,
          79.3,
          81.5,
          67.1,
          58.6,
          72.5,
          83.9,
          65.1,
          63.9,
          111.5,
          68,
          62.3,
          66,
          61.5,
          66.8,
          60.7,
          60.1,
          52.7,
          64.3,
          52,
          68.4,
          86.4,
          58.6,
          50,
          55.4,
          53.2,
          61.6,
          53.7,
          47.5,
          65.4,
          65.1,
          73.1,
          46.6,
          46.6,
          75.9,
          57.7,
          48.8,
          63.2,
          45.3,
          48.2,
          59.1,
          52.1,
          51.9,
          42.4,
          46.7,
          32.4,
          48.8,
          46.4,
          68.8,
          41.6,
          40.5,
          33.2,
          33.2,
          34.5,
          38.8,
          32.7,
          44.8,
          31.7,
          25,
          36.8,
          44.1,
          43,
          28.6,
          44.3,
          47,
          21.4,
          27.5,
          20.6,
          26.6,
          26.2,
          18.6,
          44.5,
          18.5,
          35.1,
          18.8,
          21.8,
          21.4,
          20.7,
          30.6,
          15.3,
          21,
          20.5,
          37.5,
          27.8,
          14.1,
          14.4,
          19.6,
          13.4,
          19.3,
          19.9,
          25,
          17.7,
          11.5,
          16.9,
          10.6,
          16.3,
          10.2,
          15.4,
          21.7,
          8.9,
          8.9,
          16.7,
          14.2,
          19.3,
          7.8,
          7.6,
          13.5,
          7.4,
          6.4,
          6.4,
          6.3,
          6.2,
          8,
          6,
          5.9,
          6.8,
          5.4,
          5.3,
          16.8,
          5.1,
          5,
          4.6,
          4.2,
          10.2,
          14.1,
          4.1,
          4,
          4,
          3.9,
          3.8,
          9.7,
          3,
          3,
          3,
          3,
          2.5,
          2.8,
          2.6,
          2.5,
          2.4,
          2.4,
          2.1,
          2.1,
          2,
          2,
          2,
          2,
          1.8,
          1.8,
          1.7,
          1.7,
          1.7,
          1.6,
          1.5,
          1.5,
          1.4,
          1.4,
          1.3,
          1.3,
          1.2,
          1.1,
          1,
          0.9,
          0.8,
          0.7,
          0.7,
          1.6,
          0.6,
          0.6,
          0.5,
          0.3,
          0.2,
          2.1,
          0,
          0,
          0,
          0,
          0,
          0,
          0,
          0.6,
          0,
          0
         ],
         "yaxis": "y"
        }
       ],
       "layout": {
        "legend": {
         "tracegroupgap": 0
        },
        "margin": {
         "t": 60
        },
        "template": {
         "data": {
          "candlestick": [
           {
            "decreasing": {
             "line": {
              "color": "#000033"
             }
            },
            "increasing": {
             "line": {
              "color": "#000032"
             }
            },
            "type": "candlestick"
           }
          ],
          "contour": [
           {
            "colorscale": [
             [
              0,
              "#000011"
             ],
             [
              0.1111111111111111,
              "#000012"
             ],
             [
              0.2222222222222222,
              "#000013"
             ],
             [
              0.3333333333333333,
              "#000014"
             ],
             [
              0.4444444444444444,
              "#000015"
             ],
             [
              0.5555555555555556,
              "#000016"
             ],
             [
              0.6666666666666666,
              "#000017"
             ],
             [
              0.7777777777777778,
              "#000018"
             ],
             [
              0.8888888888888888,
              "#000019"
             ],
             [
              1,
              "#000020"
             ]
            ],
            "type": "contour"
           }
          ],
          "contourcarpet": [
           {
            "colorscale": [
             [
              0,
              "#000011"
             ],
             [
              0.1111111111111111,
              "#000012"
             ],
             [
              0.2222222222222222,
              "#000013"
             ],
             [
              0.3333333333333333,
              "#000014"
             ],
             [
              0.4444444444444444,
              "#000015"
             ],
             [
              0.5555555555555556,
              "#000016"
             ],
             [
              0.6666666666666666,
              "#000017"
             ],
             [
              0.7777777777777778,
              "#000018"
             ],
             [
              0.8888888888888888,
              "#000019"
             ],
             [
              1,
              "#000020"
             ]
            ],
            "type": "contourcarpet"
           }
          ],
          "heatmap": [
           {
            "colorscale": [
             [
              0,
              "#000011"
             ],
             [
              0.1111111111111111,
              "#000012"
             ],
             [
              0.2222222222222222,
              "#000013"
             ],
             [
              0.3333333333333333,
              "#000014"
             ],
             [
              0.4444444444444444,
              "#000015"
             ],
             [
              0.5555555555555556,
              "#000016"
             ],
             [
              0.6666666666666666,
              "#000017"
             ],
             [
              0.7777777777777778,
              "#000018"
             ],
             [
              0.8888888888888888,
              "#000019"
             ],
             [
              1,
              "#000020"
             ]
            ],
            "type": "heatmap"
           }
          ],
          "histogram2d": [
           {
            "colorscale": [
             [
              0,
              "#000011"
             ],
             [
              0.1111111111111111,
              "#000012"
             ],
             [
              0.2222222222222222,
              "#000013"
             ],
             [
              0.3333333333333333,
              "#000014"
             ],
             [
              0.4444444444444444,
              "#000015"
             ],
             [
              0.5555555555555556,
              "#000016"
             ],
             [
              0.6666666666666666,
              "#000017"
             ],
             [
              0.7777777777777778,
              "#000018"
             ],
             [
              0.8888888888888888,
              "#000019"
             ],
             [
              1,
              "#000020"
             ]
            ],
            "type": "histogram2d"
           }
          ],
          "icicle": [
           {
            "textfont": {
             "color": "white"
            },
            "type": "icicle"
           }
          ],
          "sankey": [
           {
            "textfont": {
             "color": "#000036"
            },
            "type": "sankey"
           }
          ],
          "scatter": [
           {
            "marker": {
             "line": {
              "width": 0
             }
            },
            "type": "scatter"
           }
          ],
          "table": [
           {
            "cells": {
             "fill": {
              "color": "#000038"
             },
             "font": {
              "color": "#000037"
             },
             "line": {
              "color": "#000039"
             }
            },
            "header": {
             "fill": {
              "color": "#000040"
             },
             "font": {
              "color": "#000036"
             },
             "line": {
              "color": "#000039"
             }
            },
            "type": "table"
           }
          ],
          "waterfall": [
           {
            "connector": {
             "line": {
              "color": "#000036",
              "width": 2
             }
            },
            "decreasing": {
             "marker": {
              "color": "#000033"
             }
            },
            "increasing": {
             "marker": {
              "color": "#000032"
             }
            },
            "totals": {
             "marker": {
              "color": "#000034"
             }
            },
            "type": "waterfall"
           }
          ]
         },
         "layout": {
          "coloraxis": {
           "colorscale": [
            [
             0,
             "#000011"
            ],
            [
             0.1111111111111111,
             "#000012"
            ],
            [
             0.2222222222222222,
             "#000013"
            ],
            [
             0.3333333333333333,
             "#000014"
            ],
            [
             0.4444444444444444,
             "#000015"
            ],
            [
             0.5555555555555556,
             "#000016"
            ],
            [
             0.6666666666666666,
             "#000017"
            ],
            [
             0.7777777777777778,
             "#000018"
            ],
            [
             0.8888888888888888,
             "#000019"
            ],
            [
             1,
             "#000020"
            ]
           ]
          },
          "colorscale": {
           "diverging": [
            [
             0,
             "#000021"
            ],
            [
             0.1,
             "#000022"
            ],
            [
             0.2,
             "#000023"
            ],
            [
             0.3,
             "#000024"
            ],
            [
             0.4,
             "#000025"
            ],
            [
             0.5,
             "#000026"
            ],
            [
             0.6,
             "#000027"
            ],
            [
             0.7,
             "#000028"
            ],
            [
             0.8,
             "#000029"
            ],
            [
             0.9,
             "#000030"
            ],
            [
             1,
             "#000031"
            ]
           ],
           "sequential": [
            [
             0,
             "#000011"
            ],
            [
             0.1111111111111111,
             "#000012"
            ],
            [
             0.2222222222222222,
             "#000013"
            ],
            [
             0.3333333333333333,
             "#000014"
            ],
            [
             0.4444444444444444,
             "#000015"
            ],
            [
             0.5555555555555556,
             "#000016"
            ],
            [
             0.6666666666666666,
             "#000017"
            ],
            [
             0.7777777777777778,
             "#000018"
            ],
            [
             0.8888888888888888,
             "#000019"
            ],
            [
             1,
             "#000020"
            ]
           ],
           "sequentialminus": [
            [
             0,
             "#000011"
            ],
            [
             0.1111111111111111,
             "#000012"
            ],
            [
             0.2222222222222222,
             "#000013"
            ],
            [
             0.3333333333333333,
             "#000014"
            ],
            [
             0.4444444444444444,
             "#000015"
            ],
            [
             0.5555555555555556,
             "#000016"
            ],
            [
             0.6666666666666666,
             "#000017"
            ],
            [
             0.7777777777777778,
             "#000018"
            ],
            [
             0.8888888888888888,
             "#000019"
            ],
            [
             1,
             "#000020"
            ]
           ]
          },
          "colorway": [
           "#000001",
           "#000002",
           "#000003",
           "#000004",
           "#000005",
           "#000006",
           "#000007",
           "#000008",
           "#000009",
           "#000010"
          ]
         }
        },
        "xaxis": {
         "anchor": "y",
         "domain": [
          0,
          1
         ],
         "title": {
          "text": "TAR%"
         }
        },
        "yaxis": {
         "anchor": "x",
         "domain": [
          0,
          1
         ],
         "title": {
          "text": "Fantasy_Points"
         }
        }
       }
      }
     },
     "metadata": {},
     "output_type": "display_data"
    }
   ],
   "source": [
    "tar_scatter = px.scatter(app_data, x='TAR%', y='Fantasy_Points')\n",
    "tar_scatter.show()"
   ]
  },
  {
   "cell_type": "code",
   "execution_count": 67,
   "metadata": {},
   "outputs": [
    {
     "data": {
      "application/vnd.plotly.v1+json": {
       "config": {
        "plotlyServerURL": "https://plot.ly"
       },
       "data": [
        {
         "alignmentgroup": "True",
         "bingroup": "x",
         "histfunc": "sum",
         "hovertemplate": "AY%=%{x}<br>sum of Fantasy_Points=%{y}<extra></extra>",
         "legendgroup": "",
         "marker": {
          "color": "#000001",
          "pattern": {
           "shape": ""
          }
         },
         "name": "",
         "offsetgroup": "",
         "orientation": "v",
         "showlegend": false,
         "type": "histogram",
         "x": [
          39.4,
          40.8,
          41.8,
          39.9,
          34,
          27.2,
          37.5,
          32.1,
          36.9,
          34.8,
          24.6,
          38.6,
          31.3,
          28.7,
          28.9,
          36.9,
          40.9,
          31.1,
          18.6,
          38.1,
          31.8,
          17.9,
          29.4,
          46.5,
          34.5,
          33,
          26.6,
          35.1,
          26.9,
          29.5,
          27.1,
          32,
          29.4,
          32.3,
          30.4,
          24.7,
          26.1,
          37.1,
          42.4,
          18.4,
          22.5,
          35.8,
          23.1,
          24.7,
          16.1,
          29,
          16.7,
          31.4,
          14.7,
          19.3,
          26.3,
          15.8,
          20.6,
          14.1,
          16.2,
          24.5,
          23.5,
          25.1,
          18.7,
          13,
          35.4,
          31.6,
          22.8,
          31.3,
          24,
          22.7,
          25.4,
          16,
          24.6,
          13.5,
          17.5,
          18.1,
          26.9,
          19.8,
          11,
          18,
          22.4,
          9.1,
          13.8,
          15.4,
          14.7,
          12.7,
          20.6,
          13.4,
          14.7,
          15.1,
          20.4,
          26.7,
          11.3,
          20.8,
          20.8,
          21.9,
          9.6,
          30.9,
          20.4,
          12.3,
          12.5,
          27.3,
          13.9,
          13.6,
          25.9,
          18.4,
          11.6,
          -1.3,
          13.5,
          7.2,
          12.7,
          9.9,
          26.1,
          15,
          13,
          13,
          6.1,
          15.9,
          14.9,
          31,
          12.2,
          11.9,
          5.4,
          15.8,
          17.8,
          19.3,
          14.5,
          43.9,
          0.9,
          5.1,
          20.7,
          3.4,
          12.8,
          5.1,
          20.8,
          11.2,
          6.8,
          12.7,
          7.1,
          6.6,
          12.5,
          24.5,
          8.5,
          18.4,
          10.2,
          10.7,
          6,
          18.5,
          11.4,
          5,
          9.6,
          9,
          5.9,
          16.1,
          15.8,
          12.9,
          15.7,
          6.7,
          8.2,
          18.9,
          5.4,
          20.8,
          9.3,
          4.1,
          11.1,
          10.1,
          3,
          12,
          5.6,
          7.7,
          10.6,
          8.9,
          10.5,
          6.8,
          0,
          11.8,
          10.4,
          20.7,
          14.7,
          6.1,
          12.7,
          2.1,
          0,
          0,
          0.4,
          0.4,
          10.9,
          6,
          1.8,
          23.6,
          8,
          26.9,
          11.6,
          6.6,
          5.8,
          2.8,
          3.5,
          2.9,
          1.8,
          9.8,
          1.8,
          6.4,
          7.4,
          14.6,
          4.2,
          4.1,
          3.7,
          14.4,
          0.7,
          5.2,
          11,
          5.3,
          17.6,
          1.4,
          -1.2,
          4.3,
          0.8,
          1.6,
          3.7,
          3.4,
          8.4,
          2.1,
          0,
          7.9,
          7.1,
          19.7,
          2,
          0,
          1.8,
          -4.8,
          16.3,
          -1.7,
          7.7,
          7
         ],
         "xaxis": "x",
         "y": [
          235.2,
          219.9,
          228.2,
          206.1,
          192.2,
          180.9,
          183.4,
          154.9,
          148.4,
          138.6,
          156.7,
          164.9,
          144.2,
          125.8,
          144,
          136.8,
          116.2,
          145.9,
          115.3,
          144.8,
          145.9,
          107.8,
          110.5,
          135.1,
          110.3,
          86.9,
          117.9,
          128.4,
          112,
          121.7,
          97.9,
          86.1,
          106.1,
          104.7,
          98.6,
          91.4,
          99.3,
          84.4,
          89.7,
          102.3,
          100.8,
          88.3,
          95.7,
          77.7,
          113.6,
          77.8,
          114,
          72,
          79.3,
          81.5,
          67.1,
          58.6,
          72.5,
          83.9,
          65.1,
          63.9,
          111.5,
          68,
          62.3,
          66,
          61.5,
          66.8,
          60.7,
          60.1,
          52.7,
          64.3,
          52,
          68.4,
          86.4,
          58.6,
          50,
          55.4,
          53.2,
          61.6,
          53.7,
          47.5,
          65.4,
          65.1,
          73.1,
          46.6,
          46.6,
          75.9,
          57.7,
          48.8,
          63.2,
          45.3,
          48.2,
          59.1,
          52.1,
          51.9,
          42.4,
          46.7,
          32.4,
          48.8,
          46.4,
          68.8,
          41.6,
          40.5,
          33.2,
          33.2,
          34.5,
          38.8,
          32.7,
          44.8,
          31.7,
          25,
          36.8,
          44.1,
          43,
          28.6,
          44.3,
          47,
          21.4,
          27.5,
          20.6,
          26.6,
          26.2,
          18.6,
          44.5,
          18.5,
          35.1,
          18.8,
          21.8,
          21.4,
          20.7,
          30.6,
          15.3,
          21,
          20.5,
          37.5,
          27.8,
          14.1,
          14.4,
          19.6,
          13.4,
          19.3,
          19.9,
          25,
          17.7,
          11.5,
          16.9,
          10.6,
          16.3,
          10.2,
          15.4,
          21.7,
          8.9,
          8.9,
          16.7,
          14.2,
          19.3,
          7.8,
          7.6,
          13.5,
          7.4,
          6.4,
          6.4,
          6.3,
          6.2,
          8,
          6,
          5.9,
          6.8,
          5.4,
          5.3,
          16.8,
          5.1,
          5,
          4.6,
          4.2,
          10.2,
          14.1,
          4.1,
          4,
          4,
          3.9,
          3.8,
          9.7,
          3,
          3,
          3,
          3,
          2.5,
          2.8,
          2.6,
          2.5,
          2.4,
          2.4,
          2.1,
          2.1,
          2,
          2,
          2,
          2,
          1.8,
          1.8,
          1.7,
          1.7,
          1.7,
          1.6,
          1.5,
          1.5,
          1.4,
          1.4,
          1.3,
          1.3,
          1.2,
          1.1,
          1,
          0.9,
          0.8,
          0.7,
          0.7,
          1.6,
          0.6,
          0.6,
          0.5,
          0.3,
          0.2,
          2.1,
          0,
          0,
          0,
          0,
          0,
          0,
          0,
          0.6,
          0,
          0
         ],
         "yaxis": "y"
        }
       ],
       "layout": {
        "barmode": "relative",
        "legend": {
         "tracegroupgap": 0
        },
        "margin": {
         "t": 60
        },
        "template": {
         "data": {
          "candlestick": [
           {
            "decreasing": {
             "line": {
              "color": "#000033"
             }
            },
            "increasing": {
             "line": {
              "color": "#000032"
             }
            },
            "type": "candlestick"
           }
          ],
          "contour": [
           {
            "colorscale": [
             [
              0,
              "#000011"
             ],
             [
              0.1111111111111111,
              "#000012"
             ],
             [
              0.2222222222222222,
              "#000013"
             ],
             [
              0.3333333333333333,
              "#000014"
             ],
             [
              0.4444444444444444,
              "#000015"
             ],
             [
              0.5555555555555556,
              "#000016"
             ],
             [
              0.6666666666666666,
              "#000017"
             ],
             [
              0.7777777777777778,
              "#000018"
             ],
             [
              0.8888888888888888,
              "#000019"
             ],
             [
              1,
              "#000020"
             ]
            ],
            "type": "contour"
           }
          ],
          "contourcarpet": [
           {
            "colorscale": [
             [
              0,
              "#000011"
             ],
             [
              0.1111111111111111,
              "#000012"
             ],
             [
              0.2222222222222222,
              "#000013"
             ],
             [
              0.3333333333333333,
              "#000014"
             ],
             [
              0.4444444444444444,
              "#000015"
             ],
             [
              0.5555555555555556,
              "#000016"
             ],
             [
              0.6666666666666666,
              "#000017"
             ],
             [
              0.7777777777777778,
              "#000018"
             ],
             [
              0.8888888888888888,
              "#000019"
             ],
             [
              1,
              "#000020"
             ]
            ],
            "type": "contourcarpet"
           }
          ],
          "heatmap": [
           {
            "colorscale": [
             [
              0,
              "#000011"
             ],
             [
              0.1111111111111111,
              "#000012"
             ],
             [
              0.2222222222222222,
              "#000013"
             ],
             [
              0.3333333333333333,
              "#000014"
             ],
             [
              0.4444444444444444,
              "#000015"
             ],
             [
              0.5555555555555556,
              "#000016"
             ],
             [
              0.6666666666666666,
              "#000017"
             ],
             [
              0.7777777777777778,
              "#000018"
             ],
             [
              0.8888888888888888,
              "#000019"
             ],
             [
              1,
              "#000020"
             ]
            ],
            "type": "heatmap"
           }
          ],
          "histogram2d": [
           {
            "colorscale": [
             [
              0,
              "#000011"
             ],
             [
              0.1111111111111111,
              "#000012"
             ],
             [
              0.2222222222222222,
              "#000013"
             ],
             [
              0.3333333333333333,
              "#000014"
             ],
             [
              0.4444444444444444,
              "#000015"
             ],
             [
              0.5555555555555556,
              "#000016"
             ],
             [
              0.6666666666666666,
              "#000017"
             ],
             [
              0.7777777777777778,
              "#000018"
             ],
             [
              0.8888888888888888,
              "#000019"
             ],
             [
              1,
              "#000020"
             ]
            ],
            "type": "histogram2d"
           }
          ],
          "icicle": [
           {
            "textfont": {
             "color": "white"
            },
            "type": "icicle"
           }
          ],
          "sankey": [
           {
            "textfont": {
             "color": "#000036"
            },
            "type": "sankey"
           }
          ],
          "scatter": [
           {
            "marker": {
             "line": {
              "width": 0
             }
            },
            "type": "scatter"
           }
          ],
          "table": [
           {
            "cells": {
             "fill": {
              "color": "#000038"
             },
             "font": {
              "color": "#000037"
             },
             "line": {
              "color": "#000039"
             }
            },
            "header": {
             "fill": {
              "color": "#000040"
             },
             "font": {
              "color": "#000036"
             },
             "line": {
              "color": "#000039"
             }
            },
            "type": "table"
           }
          ],
          "waterfall": [
           {
            "connector": {
             "line": {
              "color": "#000036",
              "width": 2
             }
            },
            "decreasing": {
             "marker": {
              "color": "#000033"
             }
            },
            "increasing": {
             "marker": {
              "color": "#000032"
             }
            },
            "totals": {
             "marker": {
              "color": "#000034"
             }
            },
            "type": "waterfall"
           }
          ]
         },
         "layout": {
          "coloraxis": {
           "colorscale": [
            [
             0,
             "#000011"
            ],
            [
             0.1111111111111111,
             "#000012"
            ],
            [
             0.2222222222222222,
             "#000013"
            ],
            [
             0.3333333333333333,
             "#000014"
            ],
            [
             0.4444444444444444,
             "#000015"
            ],
            [
             0.5555555555555556,
             "#000016"
            ],
            [
             0.6666666666666666,
             "#000017"
            ],
            [
             0.7777777777777778,
             "#000018"
            ],
            [
             0.8888888888888888,
             "#000019"
            ],
            [
             1,
             "#000020"
            ]
           ]
          },
          "colorscale": {
           "diverging": [
            [
             0,
             "#000021"
            ],
            [
             0.1,
             "#000022"
            ],
            [
             0.2,
             "#000023"
            ],
            [
             0.3,
             "#000024"
            ],
            [
             0.4,
             "#000025"
            ],
            [
             0.5,
             "#000026"
            ],
            [
             0.6,
             "#000027"
            ],
            [
             0.7,
             "#000028"
            ],
            [
             0.8,
             "#000029"
            ],
            [
             0.9,
             "#000030"
            ],
            [
             1,
             "#000031"
            ]
           ],
           "sequential": [
            [
             0,
             "#000011"
            ],
            [
             0.1111111111111111,
             "#000012"
            ],
            [
             0.2222222222222222,
             "#000013"
            ],
            [
             0.3333333333333333,
             "#000014"
            ],
            [
             0.4444444444444444,
             "#000015"
            ],
            [
             0.5555555555555556,
             "#000016"
            ],
            [
             0.6666666666666666,
             "#000017"
            ],
            [
             0.7777777777777778,
             "#000018"
            ],
            [
             0.8888888888888888,
             "#000019"
            ],
            [
             1,
             "#000020"
            ]
           ],
           "sequentialminus": [
            [
             0,
             "#000011"
            ],
            [
             0.1111111111111111,
             "#000012"
            ],
            [
             0.2222222222222222,
             "#000013"
            ],
            [
             0.3333333333333333,
             "#000014"
            ],
            [
             0.4444444444444444,
             "#000015"
            ],
            [
             0.5555555555555556,
             "#000016"
            ],
            [
             0.6666666666666666,
             "#000017"
            ],
            [
             0.7777777777777778,
             "#000018"
            ],
            [
             0.8888888888888888,
             "#000019"
            ],
            [
             1,
             "#000020"
            ]
           ]
          },
          "colorway": [
           "#000001",
           "#000002",
           "#000003",
           "#000004",
           "#000005",
           "#000006",
           "#000007",
           "#000008",
           "#000009",
           "#000010"
          ]
         }
        },
        "xaxis": {
         "anchor": "y",
         "domain": [
          0,
          1
         ],
         "title": {
          "text": "AY%"
         }
        },
        "yaxis": {
         "anchor": "x",
         "domain": [
          0,
          1
         ],
         "title": {
          "text": "sum of Fantasy_Points"
         }
        }
       }
      }
     },
     "metadata": {},
     "output_type": "display_data"
    }
   ],
   "source": [
    "ay_hist = px.histogram(app_data, x='AY%', y='Fantasy_Points')\n",
    "ay_hist.show()"
   ]
  },
  {
   "cell_type": "code",
   "execution_count": 68,
   "metadata": {},
   "outputs": [
    {
     "data": {
      "application/vnd.plotly.v1+json": {
       "config": {
        "plotlyServerURL": "https://plot.ly"
       },
       "data": [
        {
         "hovertemplate": "AY%=%{x}<br>Fantasy_Points=%{y}<extra></extra>",
         "legendgroup": "",
         "marker": {
          "color": "#000001",
          "symbol": "circle"
         },
         "mode": "markers",
         "name": "",
         "orientation": "v",
         "showlegend": false,
         "type": "scatter",
         "x": [
          39.4,
          40.8,
          41.8,
          39.9,
          34,
          27.2,
          37.5,
          32.1,
          36.9,
          34.8,
          24.6,
          38.6,
          31.3,
          28.7,
          28.9,
          36.9,
          40.9,
          31.1,
          18.6,
          38.1,
          31.8,
          17.9,
          29.4,
          46.5,
          34.5,
          33,
          26.6,
          35.1,
          26.9,
          29.5,
          27.1,
          32,
          29.4,
          32.3,
          30.4,
          24.7,
          26.1,
          37.1,
          42.4,
          18.4,
          22.5,
          35.8,
          23.1,
          24.7,
          16.1,
          29,
          16.7,
          31.4,
          14.7,
          19.3,
          26.3,
          15.8,
          20.6,
          14.1,
          16.2,
          24.5,
          23.5,
          25.1,
          18.7,
          13,
          35.4,
          31.6,
          22.8,
          31.3,
          24,
          22.7,
          25.4,
          16,
          24.6,
          13.5,
          17.5,
          18.1,
          26.9,
          19.8,
          11,
          18,
          22.4,
          9.1,
          13.8,
          15.4,
          14.7,
          12.7,
          20.6,
          13.4,
          14.7,
          15.1,
          20.4,
          26.7,
          11.3,
          20.8,
          20.8,
          21.9,
          9.6,
          30.9,
          20.4,
          12.3,
          12.5,
          27.3,
          13.9,
          13.6,
          25.9,
          18.4,
          11.6,
          -1.3,
          13.5,
          7.2,
          12.7,
          9.9,
          26.1,
          15,
          13,
          13,
          6.1,
          15.9,
          14.9,
          31,
          12.2,
          11.9,
          5.4,
          15.8,
          17.8,
          19.3,
          14.5,
          43.9,
          0.9,
          5.1,
          20.7,
          3.4,
          12.8,
          5.1,
          20.8,
          11.2,
          6.8,
          12.7,
          7.1,
          6.6,
          12.5,
          24.5,
          8.5,
          18.4,
          10.2,
          10.7,
          6,
          18.5,
          11.4,
          5,
          9.6,
          9,
          5.9,
          16.1,
          15.8,
          12.9,
          15.7,
          6.7,
          8.2,
          18.9,
          5.4,
          20.8,
          9.3,
          4.1,
          11.1,
          10.1,
          3,
          12,
          5.6,
          7.7,
          10.6,
          8.9,
          10.5,
          6.8,
          0,
          11.8,
          10.4,
          20.7,
          14.7,
          6.1,
          12.7,
          2.1,
          0,
          0,
          0.4,
          0.4,
          10.9,
          6,
          1.8,
          23.6,
          8,
          26.9,
          11.6,
          6.6,
          5.8,
          2.8,
          3.5,
          2.9,
          1.8,
          9.8,
          1.8,
          6.4,
          7.4,
          14.6,
          4.2,
          4.1,
          3.7,
          14.4,
          0.7,
          5.2,
          11,
          5.3,
          17.6,
          1.4,
          -1.2,
          4.3,
          0.8,
          1.6,
          3.7,
          3.4,
          8.4,
          2.1,
          0,
          7.9,
          7.1,
          19.7,
          2,
          0,
          1.8,
          -4.8,
          16.3,
          -1.7,
          7.7,
          7
         ],
         "xaxis": "x",
         "y": [
          235.2,
          219.9,
          228.2,
          206.1,
          192.2,
          180.9,
          183.4,
          154.9,
          148.4,
          138.6,
          156.7,
          164.9,
          144.2,
          125.8,
          144,
          136.8,
          116.2,
          145.9,
          115.3,
          144.8,
          145.9,
          107.8,
          110.5,
          135.1,
          110.3,
          86.9,
          117.9,
          128.4,
          112,
          121.7,
          97.9,
          86.1,
          106.1,
          104.7,
          98.6,
          91.4,
          99.3,
          84.4,
          89.7,
          102.3,
          100.8,
          88.3,
          95.7,
          77.7,
          113.6,
          77.8,
          114,
          72,
          79.3,
          81.5,
          67.1,
          58.6,
          72.5,
          83.9,
          65.1,
          63.9,
          111.5,
          68,
          62.3,
          66,
          61.5,
          66.8,
          60.7,
          60.1,
          52.7,
          64.3,
          52,
          68.4,
          86.4,
          58.6,
          50,
          55.4,
          53.2,
          61.6,
          53.7,
          47.5,
          65.4,
          65.1,
          73.1,
          46.6,
          46.6,
          75.9,
          57.7,
          48.8,
          63.2,
          45.3,
          48.2,
          59.1,
          52.1,
          51.9,
          42.4,
          46.7,
          32.4,
          48.8,
          46.4,
          68.8,
          41.6,
          40.5,
          33.2,
          33.2,
          34.5,
          38.8,
          32.7,
          44.8,
          31.7,
          25,
          36.8,
          44.1,
          43,
          28.6,
          44.3,
          47,
          21.4,
          27.5,
          20.6,
          26.6,
          26.2,
          18.6,
          44.5,
          18.5,
          35.1,
          18.8,
          21.8,
          21.4,
          20.7,
          30.6,
          15.3,
          21,
          20.5,
          37.5,
          27.8,
          14.1,
          14.4,
          19.6,
          13.4,
          19.3,
          19.9,
          25,
          17.7,
          11.5,
          16.9,
          10.6,
          16.3,
          10.2,
          15.4,
          21.7,
          8.9,
          8.9,
          16.7,
          14.2,
          19.3,
          7.8,
          7.6,
          13.5,
          7.4,
          6.4,
          6.4,
          6.3,
          6.2,
          8,
          6,
          5.9,
          6.8,
          5.4,
          5.3,
          16.8,
          5.1,
          5,
          4.6,
          4.2,
          10.2,
          14.1,
          4.1,
          4,
          4,
          3.9,
          3.8,
          9.7,
          3,
          3,
          3,
          3,
          2.5,
          2.8,
          2.6,
          2.5,
          2.4,
          2.4,
          2.1,
          2.1,
          2,
          2,
          2,
          2,
          1.8,
          1.8,
          1.7,
          1.7,
          1.7,
          1.6,
          1.5,
          1.5,
          1.4,
          1.4,
          1.3,
          1.3,
          1.2,
          1.1,
          1,
          0.9,
          0.8,
          0.7,
          0.7,
          1.6,
          0.6,
          0.6,
          0.5,
          0.3,
          0.2,
          2.1,
          0,
          0,
          0,
          0,
          0,
          0,
          0,
          0.6,
          0,
          0
         ],
         "yaxis": "y"
        }
       ],
       "layout": {
        "legend": {
         "tracegroupgap": 0
        },
        "margin": {
         "t": 60
        },
        "template": {
         "data": {
          "candlestick": [
           {
            "decreasing": {
             "line": {
              "color": "#000033"
             }
            },
            "increasing": {
             "line": {
              "color": "#000032"
             }
            },
            "type": "candlestick"
           }
          ],
          "contour": [
           {
            "colorscale": [
             [
              0,
              "#000011"
             ],
             [
              0.1111111111111111,
              "#000012"
             ],
             [
              0.2222222222222222,
              "#000013"
             ],
             [
              0.3333333333333333,
              "#000014"
             ],
             [
              0.4444444444444444,
              "#000015"
             ],
             [
              0.5555555555555556,
              "#000016"
             ],
             [
              0.6666666666666666,
              "#000017"
             ],
             [
              0.7777777777777778,
              "#000018"
             ],
             [
              0.8888888888888888,
              "#000019"
             ],
             [
              1,
              "#000020"
             ]
            ],
            "type": "contour"
           }
          ],
          "contourcarpet": [
           {
            "colorscale": [
             [
              0,
              "#000011"
             ],
             [
              0.1111111111111111,
              "#000012"
             ],
             [
              0.2222222222222222,
              "#000013"
             ],
             [
              0.3333333333333333,
              "#000014"
             ],
             [
              0.4444444444444444,
              "#000015"
             ],
             [
              0.5555555555555556,
              "#000016"
             ],
             [
              0.6666666666666666,
              "#000017"
             ],
             [
              0.7777777777777778,
              "#000018"
             ],
             [
              0.8888888888888888,
              "#000019"
             ],
             [
              1,
              "#000020"
             ]
            ],
            "type": "contourcarpet"
           }
          ],
          "heatmap": [
           {
            "colorscale": [
             [
              0,
              "#000011"
             ],
             [
              0.1111111111111111,
              "#000012"
             ],
             [
              0.2222222222222222,
              "#000013"
             ],
             [
              0.3333333333333333,
              "#000014"
             ],
             [
              0.4444444444444444,
              "#000015"
             ],
             [
              0.5555555555555556,
              "#000016"
             ],
             [
              0.6666666666666666,
              "#000017"
             ],
             [
              0.7777777777777778,
              "#000018"
             ],
             [
              0.8888888888888888,
              "#000019"
             ],
             [
              1,
              "#000020"
             ]
            ],
            "type": "heatmap"
           }
          ],
          "histogram2d": [
           {
            "colorscale": [
             [
              0,
              "#000011"
             ],
             [
              0.1111111111111111,
              "#000012"
             ],
             [
              0.2222222222222222,
              "#000013"
             ],
             [
              0.3333333333333333,
              "#000014"
             ],
             [
              0.4444444444444444,
              "#000015"
             ],
             [
              0.5555555555555556,
              "#000016"
             ],
             [
              0.6666666666666666,
              "#000017"
             ],
             [
              0.7777777777777778,
              "#000018"
             ],
             [
              0.8888888888888888,
              "#000019"
             ],
             [
              1,
              "#000020"
             ]
            ],
            "type": "histogram2d"
           }
          ],
          "icicle": [
           {
            "textfont": {
             "color": "white"
            },
            "type": "icicle"
           }
          ],
          "sankey": [
           {
            "textfont": {
             "color": "#000036"
            },
            "type": "sankey"
           }
          ],
          "scatter": [
           {
            "marker": {
             "line": {
              "width": 0
             }
            },
            "type": "scatter"
           }
          ],
          "table": [
           {
            "cells": {
             "fill": {
              "color": "#000038"
             },
             "font": {
              "color": "#000037"
             },
             "line": {
              "color": "#000039"
             }
            },
            "header": {
             "fill": {
              "color": "#000040"
             },
             "font": {
              "color": "#000036"
             },
             "line": {
              "color": "#000039"
             }
            },
            "type": "table"
           }
          ],
          "waterfall": [
           {
            "connector": {
             "line": {
              "color": "#000036",
              "width": 2
             }
            },
            "decreasing": {
             "marker": {
              "color": "#000033"
             }
            },
            "increasing": {
             "marker": {
              "color": "#000032"
             }
            },
            "totals": {
             "marker": {
              "color": "#000034"
             }
            },
            "type": "waterfall"
           }
          ]
         },
         "layout": {
          "coloraxis": {
           "colorscale": [
            [
             0,
             "#000011"
            ],
            [
             0.1111111111111111,
             "#000012"
            ],
            [
             0.2222222222222222,
             "#000013"
            ],
            [
             0.3333333333333333,
             "#000014"
            ],
            [
             0.4444444444444444,
             "#000015"
            ],
            [
             0.5555555555555556,
             "#000016"
            ],
            [
             0.6666666666666666,
             "#000017"
            ],
            [
             0.7777777777777778,
             "#000018"
            ],
            [
             0.8888888888888888,
             "#000019"
            ],
            [
             1,
             "#000020"
            ]
           ]
          },
          "colorscale": {
           "diverging": [
            [
             0,
             "#000021"
            ],
            [
             0.1,
             "#000022"
            ],
            [
             0.2,
             "#000023"
            ],
            [
             0.3,
             "#000024"
            ],
            [
             0.4,
             "#000025"
            ],
            [
             0.5,
             "#000026"
            ],
            [
             0.6,
             "#000027"
            ],
            [
             0.7,
             "#000028"
            ],
            [
             0.8,
             "#000029"
            ],
            [
             0.9,
             "#000030"
            ],
            [
             1,
             "#000031"
            ]
           ],
           "sequential": [
            [
             0,
             "#000011"
            ],
            [
             0.1111111111111111,
             "#000012"
            ],
            [
             0.2222222222222222,
             "#000013"
            ],
            [
             0.3333333333333333,
             "#000014"
            ],
            [
             0.4444444444444444,
             "#000015"
            ],
            [
             0.5555555555555556,
             "#000016"
            ],
            [
             0.6666666666666666,
             "#000017"
            ],
            [
             0.7777777777777778,
             "#000018"
            ],
            [
             0.8888888888888888,
             "#000019"
            ],
            [
             1,
             "#000020"
            ]
           ],
           "sequentialminus": [
            [
             0,
             "#000011"
            ],
            [
             0.1111111111111111,
             "#000012"
            ],
            [
             0.2222222222222222,
             "#000013"
            ],
            [
             0.3333333333333333,
             "#000014"
            ],
            [
             0.4444444444444444,
             "#000015"
            ],
            [
             0.5555555555555556,
             "#000016"
            ],
            [
             0.6666666666666666,
             "#000017"
            ],
            [
             0.7777777777777778,
             "#000018"
            ],
            [
             0.8888888888888888,
             "#000019"
            ],
            [
             1,
             "#000020"
            ]
           ]
          },
          "colorway": [
           "#000001",
           "#000002",
           "#000003",
           "#000004",
           "#000005",
           "#000006",
           "#000007",
           "#000008",
           "#000009",
           "#000010"
          ]
         }
        },
        "xaxis": {
         "anchor": "y",
         "domain": [
          0,
          1
         ],
         "title": {
          "text": "AY%"
         }
        },
        "yaxis": {
         "anchor": "x",
         "domain": [
          0,
          1
         ],
         "title": {
          "text": "Fantasy_Points"
         }
        }
       }
      }
     },
     "metadata": {},
     "output_type": "display_data"
    }
   ],
   "source": [
    "ay_scatter = px.scatter(app_data, x='AY%', y='Fantasy_Points')\n",
    "ay_scatter.show()"
   ]
  }
 ],
 "metadata": {
  "kernelspec": {
   "display_name": "Python 3",
   "language": "python",
   "name": "python3"
  },
  "language_info": {
   "codemirror_mode": {
    "name": "ipython",
    "version": 3
   },
   "file_extension": ".py",
   "mimetype": "text/x-python",
   "name": "python",
   "nbconvert_exporter": "python",
   "pygments_lexer": "ipython3",
   "version": "3.10.9"
  },
  "orig_nbformat": 4
 },
 "nbformat": 4,
 "nbformat_minor": 2
}
